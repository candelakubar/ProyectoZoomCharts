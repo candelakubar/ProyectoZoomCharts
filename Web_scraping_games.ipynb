{
 "cells": [
  {
   "cell_type": "code",
   "execution_count": 1,
   "id": "73feadce",
   "metadata": {},
   "outputs": [
    {
     "name": "stdout",
     "output_type": "stream",
     "text": [
      "Requirement already satisfied: pip in c:\\users\\cande\\documents\\anaconda\\lib\\site-packages (24.2)\n"
     ]
    }
   ],
   "source": [
    "!python -m pip install --upgrade pip\n"
   ]
  },
  {
   "cell_type": "code",
   "execution_count": 2,
   "id": "caa7dae0",
   "metadata": {},
   "outputs": [
    {
     "name": "stdout",
     "output_type": "stream",
     "text": [
      "Requirement already satisfied: selenium in c:\\users\\cande\\documents\\anaconda\\lib\\site-packages (4.8.2)\n",
      "Requirement already satisfied: urllib3~=1.26 in c:\\users\\cande\\documents\\anaconda\\lib\\site-packages (from urllib3[socks]~=1.26->selenium) (1.26.15)\n",
      "Requirement already satisfied: trio~=0.17 in c:\\users\\cande\\documents\\anaconda\\lib\\site-packages (from selenium) (0.22.0)\n",
      "Requirement already satisfied: trio-websocket~=0.9 in c:\\users\\cande\\documents\\anaconda\\lib\\site-packages (from selenium) (0.9.2)\n",
      "Requirement already satisfied: certifi>=2021.10.8 in c:\\users\\cande\\documents\\anaconda\\lib\\site-packages (from selenium) (2022.9.14)\n",
      "Requirement already satisfied: attrs>=19.2.0 in c:\\users\\cande\\documents\\anaconda\\lib\\site-packages (from trio~=0.17->selenium) (21.4.0)\n",
      "Requirement already satisfied: sortedcontainers in c:\\users\\cande\\documents\\anaconda\\lib\\site-packages (from trio~=0.17->selenium) (2.4.0)\n",
      "Requirement already satisfied: async-generator>=1.9 in c:\\users\\cande\\documents\\anaconda\\lib\\site-packages (from trio~=0.17->selenium) (1.10)\n",
      "Requirement already satisfied: idna in c:\\users\\cande\\documents\\anaconda\\lib\\site-packages (from trio~=0.17->selenium) (2.8)\n",
      "Requirement already satisfied: outcome in c:\\users\\cande\\documents\\anaconda\\lib\\site-packages (from trio~=0.17->selenium) (1.2.0)\n",
      "Requirement already satisfied: sniffio in c:\\users\\cande\\documents\\anaconda\\lib\\site-packages (from trio~=0.17->selenium) (1.2.0)\n",
      "Requirement already satisfied: cffi>=1.14 in c:\\users\\cande\\documents\\anaconda\\lib\\site-packages (from trio~=0.17->selenium) (1.15.1)\n",
      "Requirement already satisfied: exceptiongroup>=1.0.0rc9 in c:\\users\\cande\\documents\\anaconda\\lib\\site-packages (from trio~=0.17->selenium) (1.1.0)\n",
      "Requirement already satisfied: wsproto>=0.14 in c:\\users\\cande\\documents\\anaconda\\lib\\site-packages (from trio-websocket~=0.9->selenium) (1.2.0)\n",
      "Requirement already satisfied: PySocks!=1.5.7,<2.0,>=1.5.6 in c:\\users\\cande\\documents\\anaconda\\lib\\site-packages (from urllib3[socks]~=1.26->selenium) (1.7.1)\n",
      "Requirement already satisfied: pycparser in c:\\users\\cande\\documents\\anaconda\\lib\\site-packages (from cffi>=1.14->trio~=0.17->selenium) (2.21)\n",
      "Requirement already satisfied: h11<1,>=0.9.0 in c:\\users\\cande\\documents\\anaconda\\lib\\site-packages (from wsproto>=0.14->trio-websocket~=0.9->selenium) (0.14.0)\n",
      "Requirement already satisfied: beautifulsoup4 in c:\\users\\cande\\documents\\anaconda\\lib\\site-packages (4.11.1)\n",
      "Requirement already satisfied: soupsieve>1.2 in c:\\users\\cande\\documents\\anaconda\\lib\\site-packages (from beautifulsoup4) (2.3.1)\n",
      "Requirement already satisfied: webdriver-manager in c:\\users\\cande\\documents\\anaconda\\lib\\site-packages (4.0.2)\n",
      "Requirement already satisfied: requests in c:\\users\\cande\\documents\\anaconda\\lib\\site-packages (from webdriver-manager) (2.28.2)\n",
      "Requirement already satisfied: python-dotenv in c:\\users\\cande\\documents\\anaconda\\lib\\site-packages (from webdriver-manager) (1.0.1)\n",
      "Requirement already satisfied: packaging in c:\\users\\cande\\documents\\anaconda\\lib\\site-packages (from webdriver-manager) (21.3)\n",
      "Requirement already satisfied: pyparsing!=3.0.5,>=2.0.2 in c:\\users\\cande\\documents\\anaconda\\lib\\site-packages (from packaging->webdriver-manager) (3.0.9)\n",
      "Requirement already satisfied: charset-normalizer<4,>=2 in c:\\users\\cande\\documents\\anaconda\\lib\\site-packages (from requests->webdriver-manager) (2.0.4)\n",
      "Requirement already satisfied: idna<4,>=2.5 in c:\\users\\cande\\documents\\anaconda\\lib\\site-packages (from requests->webdriver-manager) (2.8)\n",
      "Requirement already satisfied: urllib3<1.27,>=1.21.1 in c:\\users\\cande\\documents\\anaconda\\lib\\site-packages (from requests->webdriver-manager) (1.26.15)\n",
      "Requirement already satisfied: certifi>=2017.4.17 in c:\\users\\cande\\documents\\anaconda\\lib\\site-packages (from requests->webdriver-manager) (2022.9.14)\n"
     ]
    }
   ],
   "source": [
    "!pip install selenium\n",
    "!pip install beautifulsoup4\n",
    "!pip install webdriver-manager\n",
    "import pandas as pd\n",
    "from selenium import webdriver\n",
    "from selenium.webdriver.chrome.service import Service\n",
    "from webdriver_manager.chrome import ChromeDriverManager\n",
    "from bs4 import BeautifulSoup"
   ]
  },
  {
   "cell_type": "code",
   "execution_count": 10,
   "id": "635b52c6",
   "metadata": {},
   "outputs": [
    {
     "name": "stdout",
     "output_type": "stream",
     "text": [
      "Proceso completado. Los resultados se han guardado en 'resultados.csv'.\n"
     ]
    }
   ],
   "source": [
    "import pandas as pd\n",
    "from selenium import webdriver\n",
    "from selenium.webdriver.chrome.service import Service\n",
    "from webdriver_manager.chrome import ChromeDriverManager\n",
    "from bs4 import BeautifulSoup\n",
    "import os\n",
    "\n",
    "# Ruta del archivo CSV\n",
    "file_path = r'C:\\Users\\cande\\Documents\\Web Scraping\\URLS_Null.csv'\n",
    "\n",
    "# Verificar si el archivo existe\n",
    "if not os.path.exists(file_path):\n",
    "    print(f\"El archivo {file_path} no existe.\")\n",
    "else:\n",
    "    # Leer el archivo CSV con las URLs\n",
    "    urls_df = pd.read_csv(file_path)\n",
    "\n",
    "    # Verificar si la columna 'URL' existe en el DataFrame\n",
    "    if 'URL' not in urls_df.columns:\n",
    "        print(\"El archivo CSV no contiene una columna llamada 'URL'.\")\n",
    "    else:\n",
    "        # Inicializar listas para almacenar los resultados\n",
    "        ratings = []\n",
    "        counts = []\n",
    "\n",
    "        # Configurar el driver de Chrome\n",
    "        driver = webdriver.Chrome(service=Service(ChromeDriverManager().install()))\n",
    "\n",
    "        # Iterar sobre cada URL en el DataFrame\n",
    "        for url in urls_df['URL']:\n",
    "            try:\n",
    "                # Abrir la página de la aplicación\n",
    "                driver.get(url)\n",
    "\n",
    "                # Esperar un poco para que la página cargue completamente\n",
    "                driver.implicitly_wait(10)\n",
    "\n",
    "                # Obtener el contenido de la página\n",
    "                html = driver.page_source\n",
    "\n",
    "                # Analizar el contenido con BeautifulSoup\n",
    "                soup = BeautifulSoup(html, 'html.parser')\n",
    "\n",
    "                # Extraer el texto del elemento <figcaption>\n",
    "                figcaption_element = soup.find('figcaption')\n",
    "                if figcaption_element:\n",
    "                    # Extraer el contenido del <figcaption>\n",
    "                    content = figcaption_element.get_text(strip=True)\n",
    "                    \n",
    "                    # Separar el contenido en rating y count\n",
    "                    if '•' in content:\n",
    "                        rating, count = content.split('•')\n",
    "                        rating = rating.strip()\n",
    "                        count = count.strip().replace('Ratings', '').strip()\n",
    "                    else:\n",
    "                        rating = 'Formato no esperado'\n",
    "                        count = 'Formato no esperado'\n",
    "                else:\n",
    "                    rating = 'Elemento no encontrado'\n",
    "                    count = 'Elemento no encontrado'\n",
    "            except Exception as e:\n",
    "                rating = 'Error al procesar'\n",
    "                count = str(e)\n",
    "\n",
    "            # Agregar los resultados a las listas\n",
    "            ratings.append(rating)\n",
    "            counts.append(count)\n",
    "\n",
    "        # Cerrar el navegador\n",
    "        driver.quit()\n",
    "\n",
    "        # Crear un DataFrame con los resultados\n",
    "        result_df = pd.DataFrame({\n",
    "            'URL': urls_df['URL'],\n",
    "            'Average User Rating': ratings,\n",
    "            'User Rating Count': counts\n",
    "        })\n",
    "\n",
    "        # Guardar los resultados en un archivo CSV\n",
    "        result_df.to_csv(r'C:\\Users\\cande\\Documents\\Web Scraping\\resultados.csv', index=False)\n",
    "\n",
    "        print(\"Proceso completado. Los resultados se han guardado en 'resultados.csv'.\")\n"
   ]
  },
  {
   "cell_type": "code",
   "execution_count": 33,
   "id": "357ef4d5",
   "metadata": {
    "scrolled": true
   },
   "outputs": [],
   "source": [
    "import pandas as pd\n",
    "\n",
    "# Cargar el archivo principal\n",
    "df_principal = pd.read_excel('archivo_principal.xlsx')\n",
    "\n",
    "# Cargar el archivo con los datos restantes\n",
    "df_complementario = pd.read_excel('archivo_complementario.xlsx')\n"
   ]
  },
  {
   "cell_type": "code",
   "execution_count": 38,
   "id": "d4c48b0b",
   "metadata": {},
   "outputs": [],
   "source": [
    "# Combinar los DataFrames usando 'app URL' como clave\n",
    "df_combinado = pd.merge(df_principal, df_complementario, on='App URL', how='left', suffixes=('', '_y'))\n",
    "\n",
    "# Rellenar los valores nulos en 'Average User' y 'User count' con los datos del DataFrame complementario\n",
    "df_combinado['Average User Rating'] = df_combinado['Average User Rating'].fillna(df_combinado['Average User Rating_y'])\n",
    "df_combinado['User Rating Count'] = df_combinado['User Rating Count'].fillna(df_combinado['User Rating Count_y'])\n",
    "\n",
    "# Eliminar las columnas adicionales que fueron creadas durante el merge\n",
    "df_combinado = df_combinado.drop(columns=['Average User Rating_y', 'User Rating Count_y'])\n",
    "\n"
   ]
  },
  {
   "cell_type": "code",
   "execution_count": 44,
   "id": "f95bb7af",
   "metadata": {},
   "outputs": [],
   "source": [
    "import pandas as pd\n",
    "\n",
    "# Cargar los archivos Excel en DataFrames\n",
    "df_principal = pd.read_excel('archivo_principal.xlsx')\n",
    "df_complementario = pd.read_excel('archivo_complementario.xlsx')\n",
    "\n",
    "# Combinar los DataFrames usando 'App URL' como clave\n",
    "df_combinado = pd.merge(df_principal, df_complementario, on='App URL', how='left', suffixes=('', '_y'))\n",
    "\n",
    "# Rellenar los valores nulos en 'Average User Rating' y 'User Rating Count' con los datos del DataFrame complementario\n",
    "df_combinado['Average User Rating'] = df_combinado['Average User Rating'].fillna(df_combinado['Average User Rating_y'])\n",
    "df_combinado['User Rating Count'] = df_combinado['User Rating Count'].fillna(df_combinado['User Rating Count_y'])\n",
    "\n",
    "# Crear un nuevo DataFrame solo con las columnas necesarias\n",
    "df_final = df_combinado[['App URL', 'Average User Rating', 'User Rating Count']]\n",
    "\n",
    "# Guardar el nuevo DataFrame en un archivo Excel\n",
    "df_final.to_excel('archivo_combinado.xlsx', index=False)\n"
   ]
  }
 ],
 "metadata": {
  "kernelspec": {
   "display_name": "Python 3 (ipykernel)",
   "language": "python",
   "name": "python3"
  },
  "language_info": {
   "codemirror_mode": {
    "name": "ipython",
    "version": 3
   },
   "file_extension": ".py",
   "mimetype": "text/x-python",
   "name": "python",
   "nbconvert_exporter": "python",
   "pygments_lexer": "ipython3",
   "version": "3.9.13"
  }
 },
 "nbformat": 4,
 "nbformat_minor": 5
}
